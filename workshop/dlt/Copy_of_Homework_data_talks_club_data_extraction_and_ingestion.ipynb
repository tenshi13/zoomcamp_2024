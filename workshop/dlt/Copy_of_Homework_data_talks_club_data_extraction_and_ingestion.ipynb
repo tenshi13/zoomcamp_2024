{
  "nbformat": 4,
  "nbformat_minor": 0,
  "metadata": {
    "colab": {
      "provenance": []
    },
    "kernelspec": {
      "name": "python3",
      "display_name": "Python 3"
    },
    "language_info": {
      "name": "python"
    }
  },
  "cells": [
    {
      "cell_type": "markdown",
      "source": [
        "# **Homework**: Data talks club data engineering zoomcamp Data loading workshop\n",
        "\n",
        "Hello folks, let's practice what we learned - Loading data with the best practices of data engineering.\n",
        "\n",
        "Here are the exercises we will do\n",
        "\n",
        "\n"
      ],
      "metadata": {
        "id": "mrTFv5nPClXh"
      }
    },
    {
      "cell_type": "markdown",
      "source": [
        "# 1. Use a generator\n",
        "\n",
        "Remember the concept of generator? Let's practice using them to futher our understanding of how they work.\n",
        "\n",
        "Let's define a generator and then run it as practice.\n",
        "\n",
        "**Answer the following questions:**\n",
        "\n",
        "- **Question 1: What is the sum of the outputs of the generator for limit = 5?**\n",
        "- **Question 2: What is the 13th number yielded**\n",
        "\n",
        "I suggest practicing these questions without GPT as the purpose is to further your learning."
      ],
      "metadata": {
        "id": "wLF4iXf-NR7t"
      }
    },
    {
      "cell_type": "code",
      "source": [
        "def square_root_generator(limit):\n",
        "    n = 1\n",
        "    while n <= limit:\n",
        "        yield n ** 0.5\n",
        "        n += 1\n",
        "\n",
        "# Example usage:\n",
        "limit = 5\n",
        "generator = square_root_generator(limit)\n",
        "\n",
        "for sqrt_value in generator:\n",
        "    print(sqrt_value)\n"
      ],
      "metadata": {
        "colab": {
          "base_uri": "https://localhost:8080/"
        },
        "id": "wLng-bDJN4jf",
        "outputId": "ce66fa16-105e-44c2-e0b6-ae2bec637501"
      },
      "execution_count": 9,
      "outputs": [
        {
          "output_type": "stream",
          "name": "stdout",
          "text": [
            "1.0\n",
            "1.4142135623730951\n",
            "1.7320508075688772\n",
            "2.0\n",
            "2.23606797749979\n"
          ]
        }
      ]
    },
    {
      "cell_type": "markdown",
      "source": [],
      "metadata": {
        "id": "xbe3q55zN43j"
      }
    },
    {
      "cell_type": "markdown",
      "source": [
        "# 2. Append a generator to a table with existing data\n",
        "\n",
        "\n",
        "Below you have 2 generators. You will be tasked to load them to duckdb and answer some questions from the data\n",
        "\n",
        "1. Load the first generator and calculate the sum of ages of all people. Make sure to only load it once.\n",
        "2. Append the second generator to the same table as the first.\n",
        "3. **After correctly appending the data, calculate the sum of all ages of people.**\n",
        "\n",
        "\n"
      ],
      "metadata": {
        "id": "vjWhILzGJMpK"
      }
    },
    {
      "cell_type": "code",
      "execution_count": null,
      "metadata": {
        "colab": {
          "base_uri": "https://localhost:8080/"
        },
        "id": "2MoaQcdLBEk6",
        "outputId": "d2b93dc1-d83f-44ea-aeff-fdf51d75f7aa"
      },
      "outputs": [
        {
          "output_type": "stream",
          "name": "stdout",
          "text": [
            "{'ID': 1, 'Name': 'Person_1', 'Age': 26, 'City': 'City_A'}\n",
            "{'ID': 2, 'Name': 'Person_2', 'Age': 27, 'City': 'City_A'}\n",
            "{'ID': 3, 'Name': 'Person_3', 'Age': 28, 'City': 'City_A'}\n",
            "{'ID': 4, 'Name': 'Person_4', 'Age': 29, 'City': 'City_A'}\n",
            "{'ID': 5, 'Name': 'Person_5', 'Age': 30, 'City': 'City_A'}\n",
            "{'ID': 3, 'Name': 'Person_3', 'Age': 33, 'City': 'City_B', 'Occupation': 'Job_3'}\n",
            "{'ID': 4, 'Name': 'Person_4', 'Age': 34, 'City': 'City_B', 'Occupation': 'Job_4'}\n",
            "{'ID': 5, 'Name': 'Person_5', 'Age': 35, 'City': 'City_B', 'Occupation': 'Job_5'}\n",
            "{'ID': 6, 'Name': 'Person_6', 'Age': 36, 'City': 'City_B', 'Occupation': 'Job_6'}\n",
            "{'ID': 7, 'Name': 'Person_7', 'Age': 37, 'City': 'City_B', 'Occupation': 'Job_7'}\n",
            "{'ID': 8, 'Name': 'Person_8', 'Age': 38, 'City': 'City_B', 'Occupation': 'Job_8'}\n"
          ]
        }
      ],
      "source": [
        "\n",
        "def people_1():\n",
        "    for i in range(1, 6):\n",
        "        yield {\"ID\": i, \"Name\": f\"Person_{i}\", \"Age\": 25 + i, \"City\": \"City_A\"}\n",
        "\n",
        "for person in people_1():\n",
        "    print(person)\n",
        "\n",
        "\n",
        "def people_2():\n",
        "    for i in range(3, 9):\n",
        "        yield {\"ID\": i, \"Name\": f\"Person_{i}\", \"Age\": 30 + i, \"City\": \"City_B\", \"Occupation\": f\"Job_{i}\"}\n",
        "\n",
        "\n",
        "for person in people_2():\n",
        "    print(person)\n"
      ]
    },
    {
      "cell_type": "markdown",
      "source": [],
      "metadata": {
        "id": "vtdTIm4fvQCN"
      }
    },
    {
      "cell_type": "markdown",
      "source": [
        "# 3. Merge a generator\n",
        "\n",
        "Re-use the generators from Exercise 2.\n",
        "\n",
        "A table's primary key needs to be created from the start, so load your data to a new table with primary key ID.\n",
        "\n",
        "Load your first generator first, and then load the second one with merge. Since they have overlapping IDs, some of the records from the first load should be replaced by the ones from the second load.\n",
        "\n",
        "After loading, you should have a total of 8 records, and ID 3 should have age 33.\n",
        "\n",
        "Question: **Calculate the sum of ages of all the people loaded as described above.**\n"
      ],
      "metadata": {
        "id": "pY4cFAWOSwN1"
      }
    },
    {
      "cell_type": "markdown",
      "source": [
        "# Solution: First make sure that the following modules are installed:"
      ],
      "metadata": {
        "id": "kKB2GTB9oVjr"
      }
    },
    {
      "cell_type": "code",
      "source": [
        "#Install the dependencies\n",
        "%%capture\n",
        "!pip install dlt[duckdb]"
      ],
      "metadata": {
        "id": "xTVvtyqrfVNq"
      },
      "execution_count": 8,
      "outputs": []
    },
    {
      "cell_type": "code",
      "source": [
        "def square_root_generator(limit):\n",
        "    n = 1\n",
        "    while n <= limit:\n",
        "        yield n ** 0.5\n",
        "        n += 1\n",
        "\n",
        "## question 1\n",
        "limit = 5\n",
        "generator = square_root_generator(limit)\n",
        "sum = 0\n",
        "for sqrt_value in generator:\n",
        "    sum = sum + sqrt_value\n",
        "\n",
        "print(f\"Sum : {sum}\")\n"
      ],
      "metadata": {
        "id": "a2-PRBAkGC2K",
        "colab": {
          "base_uri": "https://localhost:8080/"
        },
        "outputId": "72e47b4d-d3a6-4d2e-c981-871f5438fe66"
      },
      "execution_count": 10,
      "outputs": [
        {
          "output_type": "stream",
          "name": "stdout",
          "text": [
            "Sum : 8.382332347441762\n"
          ]
        }
      ]
    },
    {
      "cell_type": "code",
      "source": [
        "## question 2\n",
        "limit = 13\n",
        "generator = square_root_generator(limit)\n",
        "i = 1\n",
        "for sqrt_value in generator:\n",
        "    print(f\"{i} : {sqrt_value}\")\n",
        "    i = i + 1"
      ],
      "metadata": {
        "colab": {
          "base_uri": "https://localhost:8080/"
        },
        "id": "BqskjlPR7aRK",
        "outputId": "b934d88c-6f4a-4a78-e0f5-fb4f35b133ce"
      },
      "execution_count": 11,
      "outputs": [
        {
          "output_type": "stream",
          "name": "stdout",
          "text": [
            "1 : 1.0\n",
            "2 : 1.4142135623730951\n",
            "3 : 1.7320508075688772\n",
            "4 : 2.0\n",
            "5 : 2.23606797749979\n",
            "6 : 2.449489742783178\n",
            "7 : 2.6457513110645907\n",
            "8 : 2.8284271247461903\n",
            "9 : 3.0\n",
            "10 : 3.1622776601683795\n",
            "11 : 3.3166247903554\n",
            "12 : 3.4641016151377544\n",
            "13 : 3.605551275463989\n"
          ]
        }
      ]
    },
    {
      "cell_type": "markdown",
      "source": [
        "Questions? difficulties? We are here to help.\n",
        "- DTC data engineering course channel: https://datatalks-club.slack.com/archives/C01FABYF2RG\n",
        "- dlt's DTC cohort channel: https://dlthub-community.slack.com/archives/C06GAEX2VNX"
      ],
      "metadata": {
        "id": "PoTJu4kbGG0z"
      }
    },
    {
      "cell_type": "code",
      "source": [
        "import dlt\n",
        "import duckdb\n",
        "\n",
        "## question 3\n",
        "def people_1():\n",
        "    for i in range(1, 6):\n",
        "        yield {\"ID\": i, \"Name\": f\"Person_{i}\", \"Age\": 25 + i, \"City\": \"City_A\"}\n",
        "\n",
        "def people_2():\n",
        "    for i in range(3, 9):\n",
        "        yield {\"ID\": i, \"Name\": f\"Person_{i}\", \"Age\": 30 + i, \"City\": \"City_B\", \"Occupation\": f\"Job_{i}\"}\n",
        "\n",
        "pipeline = dlt.pipeline(pipeline_name=\"people_data\",\n",
        "                        destination='duckdb',\n",
        "                        dataset_name='people_info')\n",
        "\n",
        "# run the pipeline with default settings, and capture the outcome\n",
        "info = pipeline.run(people_1,\n",
        "                    table_name=\"people\",\n",
        "                    write_disposition=\"replace\")\n",
        "\n",
        "print(info)\n",
        "con = duckdb.connect(\"people_data.duckdb\")\n",
        "con.sql(\"SELECT * FROM people_info.people\").show()\n",
        "con.sql(\"SELECT sum(age) FROM people_info.people\").show()\n",
        "\n",
        "# merging 2nd generator\n",
        "info2 = pipeline.run(people_2,\n",
        "                    table_name=\"people\",\n",
        "                    write_disposition=\"append\")\n",
        "                    # write_disposition=\"merge\",\n",
        "                    # primary_key=\"id\")\n",
        "print(info2)\n",
        "con.sql(\"SELECT * FROM people_info.people order by id\").show()\n",
        "con.sql(\"SELECT sum(age) FROM people_info.people\").show() # 353\n"
      ],
      "metadata": {
        "colab": {
          "base_uri": "https://localhost:8080/"
        },
        "id": "7ncuTwqQ7dqR",
        "outputId": "a4f111d5-7487-40ee-c93c-52ddcd11818b"
      },
      "execution_count": 26,
      "outputs": [
        {
          "output_type": "stream",
          "name": "stdout",
          "text": [
            "Pipeline people_data load step completed in 0.18 seconds\n",
            "1 load package(s) were loaded to destination duckdb and into dataset people_info\n",
            "The duckdb destination used duckdb:////content/people_data.duckdb location to store data\n",
            "Load package 1708240400.2431142 is LOADED and contains no failed jobs\n",
            "┌───────┬──────────┬───────┬─────────┬────────────────────┬────────────────┬────────────┐\n",
            "│  id   │   name   │  age  │  city   │    _dlt_load_id    │    _dlt_id     │ occupation │\n",
            "│ int64 │ varchar  │ int64 │ varchar │      varchar       │    varchar     │  varchar   │\n",
            "├───────┼──────────┼───────┼─────────┼────────────────────┼────────────────┼────────────┤\n",
            "│     1 │ Person_1 │    26 │ City_A  │ 1708240400.2431142 │ xP8VOjaAJkkqxQ │ NULL       │\n",
            "│     2 │ Person_2 │    27 │ City_A  │ 1708240400.2431142 │ QNk0dMkK6h/Kqg │ NULL       │\n",
            "│     3 │ Person_3 │    28 │ City_A  │ 1708240400.2431142 │ BETb0abJeLOV4A │ NULL       │\n",
            "│     4 │ Person_4 │    29 │ City_A  │ 1708240400.2431142 │ 9veIxHCnK/EF/g │ NULL       │\n",
            "│     5 │ Person_5 │    30 │ City_A  │ 1708240400.2431142 │ hNH1Y2e7NrjQ2Q │ NULL       │\n",
            "└───────┴──────────┴───────┴─────────┴────────────────────┴────────────────┴────────────┘\n",
            "\n",
            "┌──────────┐\n",
            "│ sum(age) │\n",
            "│  int128  │\n",
            "├──────────┤\n",
            "│      140 │\n",
            "└──────────┘\n",
            "\n",
            "Pipeline people_data load step completed in 0.24 seconds\n",
            "1 load package(s) were loaded to destination duckdb and into dataset people_info\n",
            "The duckdb destination used duckdb:////content/people_data.duckdb location to store data\n",
            "Load package 1708240400.866024 is LOADED and contains no failed jobs\n",
            "┌───────┬──────────┬───────┬─────────┬────────────────────┬────────────────┬────────────┐\n",
            "│  id   │   name   │  age  │  city   │    _dlt_load_id    │    _dlt_id     │ occupation │\n",
            "│ int64 │ varchar  │ int64 │ varchar │      varchar       │    varchar     │  varchar   │\n",
            "├───────┼──────────┼───────┼─────────┼────────────────────┼────────────────┼────────────┤\n",
            "│     1 │ Person_1 │    26 │ City_A  │ 1708240400.2431142 │ xP8VOjaAJkkqxQ │ NULL       │\n",
            "│     2 │ Person_2 │    27 │ City_A  │ 1708240400.2431142 │ QNk0dMkK6h/Kqg │ NULL       │\n",
            "│     3 │ Person_3 │    28 │ City_A  │ 1708240400.2431142 │ BETb0abJeLOV4A │ NULL       │\n",
            "│     3 │ Person_3 │    33 │ City_B  │ 1708240400.866024  │ TIurjYbiXuOt9g │ Job_3      │\n",
            "│     4 │ Person_4 │    29 │ City_A  │ 1708240400.2431142 │ 9veIxHCnK/EF/g │ NULL       │\n",
            "│     4 │ Person_4 │    34 │ City_B  │ 1708240400.866024  │ K4WgbP/pTf4ThQ │ Job_4      │\n",
            "│     5 │ Person_5 │    30 │ City_A  │ 1708240400.2431142 │ hNH1Y2e7NrjQ2Q │ NULL       │\n",
            "│     5 │ Person_5 │    35 │ City_B  │ 1708240400.866024  │ FohqJilDVljMfQ │ Job_5      │\n",
            "│     6 │ Person_6 │    36 │ City_B  │ 1708240400.866024  │ fwGS0jWBbMFS3A │ Job_6      │\n",
            "│     7 │ Person_7 │    37 │ City_B  │ 1708240400.866024  │ RULAl892cn8fPA │ Job_7      │\n",
            "│     8 │ Person_8 │    38 │ City_B  │ 1708240400.866024  │ r5BiyOfdQaO9GA │ Job_8      │\n",
            "├───────┴──────────┴───────┴─────────┴────────────────────┴────────────────┴────────────┤\n",
            "│ 11 rows                                                                     7 columns │\n",
            "└───────────────────────────────────────────────────────────────────────────────────────┘\n",
            "\n",
            "┌──────────┐\n",
            "│ sum(age) │\n",
            "│  int128  │\n",
            "├──────────┤\n",
            "│      353 │\n",
            "└──────────┘\n",
            "\n"
          ]
        }
      ]
    },
    {
      "cell_type": "code",
      "source": [
        "## question 4\n",
        "pipeline = dlt.pipeline(pipeline_name=\"people_data\",\n",
        "                        destination='duckdb',\n",
        "                        dataset_name='people_info')\n",
        "\n",
        "# run the pipeline with default settings, and capture the outcome\n",
        "info = pipeline.run(people_1,\n",
        "                    table_name=\"people\",\n",
        "                    write_disposition=\"replace\")\n",
        "\n",
        "print(info)\n",
        "con = duckdb.connect(\"people_data.duckdb\")\n",
        "con.sql(\"SELECT * FROM people_info.people\").show()\n",
        "con.sql(\"SELECT sum(age) FROM people_info.people\").show()\n",
        "\n",
        "# merging 2nd generator\n",
        "info2 = pipeline.run(people_2,\n",
        "                    table_name=\"people\",\n",
        "                    write_disposition=\"merge\",\n",
        "                    primary_key=\"id\")\n",
        "print(info2)\n",
        "con.sql(\"SELECT * FROM people_info.people order by id\").show()\n",
        "con.sql(\"SELECT sum(age) FROM people_info.people\").show() # 266\n"
      ],
      "metadata": {
        "colab": {
          "base_uri": "https://localhost:8080/"
        },
        "id": "3lQ72oaVEEcN",
        "outputId": "d233a1ee-c21b-4e71-febc-ffedbd23bd4a"
      },
      "execution_count": 27,
      "outputs": [
        {
          "output_type": "stream",
          "name": "stdout",
          "text": [
            "Pipeline people_data load step completed in 0.19 seconds\n",
            "1 load package(s) were loaded to destination duckdb and into dataset people_info\n",
            "The duckdb destination used duckdb:////content/people_data.duckdb location to store data\n",
            "Load package 1708240449.45687 is LOADED and contains no failed jobs\n",
            "┌───────┬──────────┬───────┬─────────┬──────────────────┬────────────────┬────────────┐\n",
            "│  id   │   name   │  age  │  city   │   _dlt_load_id   │    _dlt_id     │ occupation │\n",
            "│ int64 │ varchar  │ int64 │ varchar │     varchar      │    varchar     │  varchar   │\n",
            "├───────┼──────────┼───────┼─────────┼──────────────────┼────────────────┼────────────┤\n",
            "│     1 │ Person_1 │    26 │ City_A  │ 1708240449.45687 │ MKxxfJg8BjVlqg │ NULL       │\n",
            "│     2 │ Person_2 │    27 │ City_A  │ 1708240449.45687 │ 2epcbkV9ZNgj5A │ NULL       │\n",
            "│     3 │ Person_3 │    28 │ City_A  │ 1708240449.45687 │ /f7IpYwGclVzIw │ NULL       │\n",
            "│     4 │ Person_4 │    29 │ City_A  │ 1708240449.45687 │ dDTXOFbq1Zitpw │ NULL       │\n",
            "│     5 │ Person_5 │    30 │ City_A  │ 1708240449.45687 │ tNq2z6nx+EksOA │ NULL       │\n",
            "└───────┴──────────┴───────┴─────────┴──────────────────┴────────────────┴────────────┘\n",
            "\n",
            "┌──────────┐\n",
            "│ sum(age) │\n",
            "│  int128  │\n",
            "├──────────┤\n",
            "│      140 │\n",
            "└──────────┘\n",
            "\n",
            "Pipeline people_data load step completed in 0.34 seconds\n",
            "1 load package(s) were loaded to destination duckdb and into dataset people_info\n",
            "The duckdb destination used duckdb:////content/people_data.duckdb location to store data\n",
            "Load package 1708240450.261073 is LOADED and contains no failed jobs\n",
            "┌───────┬──────────┬───────┬─────────┬───────────────────┬────────────────┬────────────┐\n",
            "│  id   │   name   │  age  │  city   │   _dlt_load_id    │    _dlt_id     │ occupation │\n",
            "│ int64 │ varchar  │ int64 │ varchar │      varchar      │    varchar     │  varchar   │\n",
            "├───────┼──────────┼───────┼─────────┼───────────────────┼────────────────┼────────────┤\n",
            "│     1 │ Person_1 │    26 │ City_A  │ 1708240449.45687  │ MKxxfJg8BjVlqg │ NULL       │\n",
            "│     2 │ Person_2 │    27 │ City_A  │ 1708240449.45687  │ 2epcbkV9ZNgj5A │ NULL       │\n",
            "│     3 │ Person_3 │    33 │ City_B  │ 1708240450.261073 │ qZRH2qoX1zSkvA │ Job_3      │\n",
            "│     4 │ Person_4 │    34 │ City_B  │ 1708240450.261073 │ aWJGNBPaVgcadQ │ Job_4      │\n",
            "│     5 │ Person_5 │    35 │ City_B  │ 1708240450.261073 │ uCPEfsNrTg5PrA │ Job_5      │\n",
            "│     6 │ Person_6 │    36 │ City_B  │ 1708240450.261073 │ gFhneIJLd//SBA │ Job_6      │\n",
            "│     7 │ Person_7 │    37 │ City_B  │ 1708240450.261073 │ ofDR2fjf/bKzvw │ Job_7      │\n",
            "│     8 │ Person_8 │    38 │ City_B  │ 1708240450.261073 │ t8RXe+exT0NMhw │ Job_8      │\n",
            "└───────┴──────────┴───────┴─────────┴───────────────────┴────────────────┴────────────┘\n",
            "\n",
            "┌──────────┐\n",
            "│ sum(age) │\n",
            "│  int128  │\n",
            "├──────────┤\n",
            "│      266 │\n",
            "└──────────┘\n",
            "\n"
          ]
        }
      ]
    },
    {
      "cell_type": "code",
      "source": [],
      "metadata": {
        "id": "3BFL-3aC8sho"
      },
      "execution_count": null,
      "outputs": []
    }
  ]
}